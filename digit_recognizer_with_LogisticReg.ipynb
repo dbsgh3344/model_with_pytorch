{
  "nbformat": 4,
  "nbformat_minor": 0,
  "metadata": {
    "colab": {
      "name": "digit_recognizer_with_LogisticReg.ipynb",
      "provenance": [],
      "collapsed_sections": [],
      "toc_visible": true
    },
    "kernelspec": {
      "name": "python3",
      "display_name": "Python 3"
    }
  },
  "cells": [
    {
      "cell_type": "markdown",
      "metadata": {
        "id": "Q68Op9aHuKq1"
      },
      "source": [
        "# Logistic Regression"
      ]
    },
    {
      "cell_type": "code",
      "metadata": {
        "id": "XT0uTtDbuOSJ"
      },
      "source": [
        "import torch.nn as nn\n",
        "from torch.autograd import Variable\n",
        "from sklearn.model_selection import train_test_split\n",
        "import torch\n",
        "import pandas as pd\n",
        "import numpy as np\n",
        "import os\n",
        "import matplotlib.pyplot as plt\n",
        "\n",
        "os.chdir('/content/drive/My Drive/pytorch')\n"
      ],
      "execution_count": 20,
      "outputs": []
    },
    {
      "cell_type": "code",
      "metadata": {
        "id": "hhRZbslVwYJX",
        "outputId": "cedbbf3f-5144-454a-f76e-9aa168e09211",
        "colab": {
          "base_uri": "https://localhost:8080/",
          "height": 34
        }
      },
      "source": [
        "# dtype float32로 설정해야 모델이 인식함\n",
        "train = pd.read_csv('train.csv',dtype=np.float32)\n",
        "print(train.shape)\n"
      ],
      "execution_count": 13,
      "outputs": [
        {
          "output_type": "stream",
          "text": [
            "(42000, 785)\n"
          ],
          "name": "stdout"
        }
      ]
    },
    {
      "cell_type": "code",
      "metadata": {
        "id": "5wFPqOLvwegz"
      },
      "source": [
        "target_np = train.label.values\n",
        "# 정규화\n",
        "feature_np = train.loc[:,train.columns!='label'].values/255\n",
        "\n",
        "\n",
        "feature_train, feature_test , target_train, target_test = train_test_split(feature_np,\n",
        "                                                                           target_np, test_size=0.2, random_state=42)\n"
      ],
      "execution_count": 14,
      "outputs": []
    },
    {
      "cell_type": "code",
      "metadata": {
        "id": "91ZaJUZNyEOg",
        "outputId": "d0d5e875-d251-48ff-c604-9f578fd83daf",
        "colab": {
          "base_uri": "https://localhost:8080/",
          "height": 34
        }
      },
      "source": [
        "feature_train.shape, feature_test.shape , target_train.shape, target_test.shape"
      ],
      "execution_count": 15,
      "outputs": [
        {
          "output_type": "execute_result",
          "data": {
            "text/plain": [
              "((33600, 784), (8400, 784), (33600,), (8400,))"
            ]
          },
          "metadata": {
            "tags": []
          },
          "execution_count": 15
        }
      ]
    },
    {
      "cell_type": "code",
      "metadata": {
        "id": "0a-nAFEfyS-7",
        "outputId": "f5f08d73-76b5-4cbd-8677-3cfb61f85f64",
        "colab": {
          "base_uri": "https://localhost:8080/",
          "height": 67
        }
      },
      "source": [
        "# train set\n",
        "ft_train = torch.from_numpy(feature_train)\n",
        "tg_train = torch.from_numpy(target_train).type(torch.LongTensor)\n",
        "print(type(ft_train), type(tg_train))\n",
        "\n",
        "# test set\n",
        "ft_test = torch.from_numpy(feature_test)\n",
        "tg_test = torch.from_numpy(target_test).type(torch.LongTensor)\n",
        "\n",
        "print(type(ft_test),type(tg_test))\n",
        "\n",
        "batch_size = 100\n",
        "epochs = 10000\n",
        "\n",
        "num_epochs = int(epochs / (len(feature_train)/batch_size))\n",
        "print(num_epochs)\n",
        "\n",
        "# train set을 100개씩 묶음 33600/100 \n",
        "# 하나의 배치를 29번씩 학습시킴 10000/336\n",
        "\n",
        "\n",
        "train = torch.utils.data.TensorDataset(ft_train,tg_train)\n",
        "test = torch.utils.data.TensorDataset(ft_test,tg_test)\n",
        "\n",
        "\n",
        "\n"
      ],
      "execution_count": 16,
      "outputs": [
        {
          "output_type": "stream",
          "text": [
            "<class 'torch.Tensor'> <class 'torch.Tensor'>\n",
            "<class 'torch.Tensor'> <class 'torch.Tensor'>\n",
            "29\n"
          ],
          "name": "stdout"
        }
      ]
    },
    {
      "cell_type": "code",
      "metadata": {
        "id": "FCD-JjQs2O7O"
      },
      "source": [
        "train_loader = torch.utils.data.DataLoader(train,batch_size=batch_size,shuffle=False)\n",
        "test_loader = torch.utils.data.DataLoader(test,batch_size=batch_size,shuffle=False)"
      ],
      "execution_count": 17,
      "outputs": []
    },
    {
      "cell_type": "code",
      "metadata": {
        "id": "Z4550XsT3as2",
        "outputId": "db39ebde-a495-45e2-9fd7-2238cc2338b9",
        "colab": {
          "base_uri": "https://localhost:8080/",
          "height": 34
        }
      },
      "source": [
        "feature_np[10].shape"
      ],
      "execution_count": 18,
      "outputs": [
        {
          "output_type": "execute_result",
          "data": {
            "text/plain": [
              "(784,)"
            ]
          },
          "metadata": {
            "tags": []
          },
          "execution_count": 18
        }
      ]
    },
    {
      "cell_type": "code",
      "metadata": {
        "id": "vOv-19Qc2nbL",
        "outputId": "3db1535e-db4c-4a02-e957-06a5c91f3a24",
        "colab": {
          "base_uri": "https://localhost:8080/",
          "height": 298
        }
      },
      "source": [
        "plt.imshow(feature_np[10].reshape(28,28))\n",
        "plt.title(target_np[10])"
      ],
      "execution_count": 21,
      "outputs": [
        {
          "output_type": "execute_result",
          "data": {
            "text/plain": [
              "Text(0.5, 1.0, '8.0')"
            ]
          },
          "metadata": {
            "tags": []
          },
          "execution_count": 21
        },
        {
          "output_type": "display_data",
          "data": {
            "image/png": "[encoded data removed]",
            "text/plain": [
              "<Figure size 432x288 with 1 Axes>"
            ]
          },
          "metadata": {
            "tags": [],
            "needs_background": "light"
          }
        }
      ]
    },
    {
      "cell_type": "code",
      "metadata": {
        "id": "yWPLBcxc3iO7",
        "outputId": "620dfa9e-e763-403f-e7e1-f585c64d6c43",
        "colab": {
          "base_uri": "https://localhost:8080/",
          "height": 336
        }
      },
      "source": [
        "\n",
        "class LogisticRegression(nn.Module) :\n",
        "    def __init__(self,input_dim,output_dim) :\n",
        "        super(LogisticRegression,self).__init__()\n",
        "        \n",
        "        self.linear = nn.Linear(input_dim,output_dim)\n",
        "\n",
        "        \n",
        "    def forward(self,x) :\n",
        "        return self.linear(x)\n",
        "\n",
        "\n",
        "\n",
        "input_dim= feature_train.shape[1]\n",
        "output_dim = len(set(target_train))\n",
        "\n",
        "model = LogisticRegression(input_dim,output_dim)\n",
        "\n",
        "# 출력층 활성화함수를 softmax를 사용하는 loss func 호출\n",
        "loss = nn.CrossEntropyLoss()\n",
        "\n",
        "\n",
        "lr = 0.001\n",
        "optim = torch.optim.SGD(model.parameters(),lr=lr)\n",
        "\n",
        "\n",
        "count=0\n",
        "loss_list = []\n",
        "iteration_list = []\n",
        "\n",
        "for epoch in range(num_epochs) :\n",
        "    for i , (img,label) in enumerate(train_loader) :\n",
        "        train =Variable(img.view(-1,28*28))\n",
        "        label = Variable(label)\n",
        "\n",
        "        # optimizer 초기화\n",
        "        optim.zero_grad()\n",
        "\n",
        "        # model 호출\n",
        "        outputs = model(train)\n",
        "\n",
        "        cn_loss = loss(outputs,label)\n",
        "        \n",
        "        \n",
        "        cn_loss.backward()\n",
        "        \n",
        "        optim.step()\n",
        "        count+=1\n",
        "        if count%50 ==0 :\n",
        "            corr=0\n",
        "            total =0\n",
        "\n",
        "            for t_img,t_label in test_loader :\n",
        "                test = Variable(t_img.view(-1,28*28))\n",
        "                \n",
        "\n",
        "                outputs = model(test)\n",
        "                \n",
        "                pred = torch.max(outputs.data, 1 )[1]\n",
        "\n",
        "                total+=len(t_label)\n",
        "\n",
        "                corr+=(pred==t_label).sum()\n",
        "                \n",
        "            acc= 100 *corr /float(total)\n",
        "\n",
        "\n",
        "            loss_list.append(cn_loss.data)\n",
        "\n",
        "            iteration_list.append(count)\n",
        "\n",
        "            if count % 500 == 0:\n",
        "            # Print Loss\n",
        "                print('Iteration: {}  Loss: {}  Accuracy: {}%'.format(count, cn_loss.data, acc))\n",
        "            \n",
        "                \n",
        "\n",
        "            "
      ],
      "execution_count": 22,
      "outputs": [
        {
          "output_type": "stream",
          "text": [
            "Iteration: 500  Loss: 1.7917786836624146  Accuracy: 68.02381134033203%\n",
            "Iteration: 1000  Loss: 1.5811848640441895  Accuracy: 75.57142639160156%\n",
            "Iteration: 1500  Loss: 1.2796443700790405  Accuracy: 78.6547622680664%\n",
            "Iteration: 2000  Loss: 1.2115159034729004  Accuracy: 80.30952453613281%\n",
            "Iteration: 2500  Loss: 1.0295462608337402  Accuracy: 81.27381134033203%\n",
            "Iteration: 3000  Loss: 0.9443411827087402  Accuracy: 82.04762268066406%\n",
            "Iteration: 3500  Loss: 0.8957687616348267  Accuracy: 82.83333587646484%\n",
            "Iteration: 4000  Loss: 0.746482253074646  Accuracy: 83.41666412353516%\n",
            "Iteration: 4500  Loss: 0.9703641533851624  Accuracy: 83.80952453613281%\n",
            "Iteration: 5000  Loss: 0.8049580454826355  Accuracy: 84.16666412353516%\n",
            "Iteration: 5500  Loss: 0.7471616864204407  Accuracy: 84.41666412353516%\n",
            "Iteration: 6000  Loss: 0.8643772006034851  Accuracy: 84.61904907226562%\n",
            "Iteration: 6500  Loss: 0.6634169816970825  Accuracy: 84.80952453613281%\n",
            "Iteration: 7000  Loss: 0.7082366347312927  Accuracy: 85.08333587646484%\n",
            "Iteration: 7500  Loss: 0.6353301405906677  Accuracy: 85.28571319580078%\n",
            "Iteration: 8000  Loss: 0.740397036075592  Accuracy: 85.41666412353516%\n",
            "Iteration: 8500  Loss: 0.5456869006156921  Accuracy: 85.53571319580078%\n",
            "Iteration: 9000  Loss: 0.6597166657447815  Accuracy: 85.57142639160156%\n",
            "Iteration: 9500  Loss: 0.5293681621551514  Accuracy: 85.72618865966797%\n"
          ],
          "name": "stdout"
        }
      ]
    },
    {
      "cell_type": "code",
      "metadata": {
        "id": "U4KX0sZ2-Pw9",
        "outputId": "bf4ddd67-823c-46a0-f32e-961e0f792287",
        "colab": {
          "base_uri": "https://localhost:8080/",
          "height": 282
        }
      },
      "source": [
        "plt.plot(iteration_list,loss_list)"
      ],
      "execution_count": 23,
      "outputs": [
        {
          "output_type": "execute_result",
          "data": {
            "text/plain": [
              "[<matplotlib.lines.Line2D at 0x7f64006c0ef0>]"
            ]
          },
          "metadata": {
            "tags": []
          },
          "execution_count": 23
        },
        {
          "output_type": "display_data",
          "data": {
            "image/png": "[encoded data removed]",
            "text/plain": [
              "<Figure size 432x288 with 1 Axes>"
            ]
          },
          "metadata": {
            "tags": [],
            "needs_background": "light"
          }
        }
      ]
    },
    {
      "cell_type": "code",
      "metadata": {
        "id": "6IcfIqa3J_L8"
      },
      "source": [
        "test = pd.read_csv('test.csv',dtype=np.float32)"
      ],
      "execution_count": 45,
      "outputs": []
    },
    {
      "cell_type": "code",
      "metadata": {
        "id": "B1wrEaZnKE_B",
        "outputId": "62fffbfd-7e6a-4744-a5c7-2e3f1702bb0b",
        "colab": {
          "base_uri": "https://localhost:8080/",
          "height": 34
        }
      },
      "source": [
        "test.shape"
      ],
      "execution_count": 46,
      "outputs": [
        {
          "output_type": "execute_result",
          "data": {
            "text/plain": [
              "(28000, 784)"
            ]
          },
          "metadata": {
            "tags": []
          },
          "execution_count": 46
        }
      ]
    },
    {
      "cell_type": "code",
      "metadata": {
        "id": "eH5HqF_EzdXi"
      },
      "source": [
        "torch_test = torch.from_numpy(np.array(test)/255)\n",
        "\n",
        "# torch_test= torch.utils.data.TensorDataset(torch_test)"
      ],
      "execution_count": 26,
      "outputs": []
    },
    {
      "cell_type": "code",
      "metadata": {
        "id": "G4aabRP8Lgv4"
      },
      "source": [
        "pred_list=[]\n",
        "for i in torch_test:\n",
        "    tests = Variable(i.view(-1,28*28))\n",
        "    output= model(tests)\n",
        "    pred = torch.argmax(output.data)\n",
        "    # print(pred)\n",
        "    # print(i)\n",
        "    pred_list.append(pred)\n",
        "\n"
      ],
      "execution_count": 47,
      "outputs": []
    },
    {
      "cell_type": "code",
      "metadata": {
        "id": "luhQTW65-A7h",
        "outputId": "6a137279-4fa8-4a0e-96f2-8de4cdf359da",
        "colab": {
          "base_uri": "https://localhost:8080/",
          "height": 444
        }
      },
      "source": [
        "fig, ((ax1,ax2,ax3),(ax4,ax5,ax6)) = plt.subplots(nrows=2,ncols=3)  \n",
        "fig.set_size_inches(15,7)\n",
        "for i in range(6) :\n",
        "    globals()['ax{}'.format(i+1)].imshow(test.values[i].reshape(28,28))\n",
        "    globals()['ax{}'.format(i+1)].set_title((pred_list[i]))\n",
        "    \n",
        "    "
      ],
      "execution_count": 77,
      "outputs": [
        {
          "output_type": "display_data",
          "data": {
            "image/png": "[encoded data removed]",
            "text/plain": [
              "<Figure size 1080x504 with 6 Axes>"
            ]
          },
          "metadata": {
            "tags": [],
            "needs_background": "light"
          }
        }
      ]
    },
    {
      "cell_type": "code",
      "metadata": {
        "id": "GyreV407217n",
        "outputId": "374c1ab6-34a1-4fff-c830-86fead586e04",
        "colab": {
          "base_uri": "https://localhost:8080/",
          "height": 34
        }
      },
      "source": [
        "# test로 6개의 이미지에 대한 답을 봤을 때, (1,0) 의 0을 7로 예측한 것 외엔 괜찮아보인다."
      ],
      "execution_count": 44,
      "outputs": [
        {
          "output_type": "execute_result",
          "data": {
            "text/plain": [
              "<function Tensor.values>"
            ]
          },
          "metadata": {
            "tags": []
          },
          "execution_count": 44
        }
      ]
    }
  ]
}